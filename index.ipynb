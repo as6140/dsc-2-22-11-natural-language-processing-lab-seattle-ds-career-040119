{
 "cells": [
  {
   "cell_type": "markdown",
   "metadata": {},
   "source": [
    "# Word Vectorization - Lab\n",
    "\n",
    "## Introduction\n",
    "\n",
    "In this lab, we'll learn how tokenize and vectorize text documents, create an use a Bag of Words, and identify words unique to individual documents using TF-IDF Vectorization. \n",
    "\n",
    "## Objectives\n",
    "\n",
    "You will be able to: \n",
    "\n",
    "* Tokenize a corpus of words and identify the different choices to be made while parsing them\n",
    "* Use a Count Vectorization strategy to create a Bag of Words\n",
    "* Use TF-IDF Vectorization with multiple documents to identify words that are important/unique to certain documents\n",
    "\n",
    "## Let's get started!\n",
    "\n",
    "Run the cell below to import everything necessary for this lab.  "
   ]
  },
  {
   "cell_type": "code",
   "execution_count": 20,
   "metadata": {},
   "outputs": [],
   "source": [
    "import pandas as pd\n",
    "import numpy as np\n",
    "from mpl_toolkits.mplot3d import Axes3D\n",
    "import matplotlib.pyplot as plt\n",
    "%matplotlib inline\n",
    "from sklearn.manifold import TSNE\n",
    "from nltk.tokenize import word_tokenize\n",
    "np.random.seed(0)\n",
    "from collections import Counter"
   ]
  },
  {
   "cell_type": "markdown",
   "metadata": {},
   "source": [
    "### Our Corpus\n",
    "\n",
    "In this lab, we'll be working with 20 different documents, each containing song lyrics from either Garth Brooks or Kendrick Lamar albums.  \n",
    "\n",
    "The songs are contained within the `data` subdirectory, contained within the same folder as this lab.  Each song is stored in a single file, with files ranging from `song1.txt` to `song20.txt`.  \n",
    "\n",
    "To make it easy to read in all of the documents, use a list comprehension to create a list containing the name of every single song file in the cell below. "
   ]
  },
  {
   "cell_type": "code",
   "execution_count": 2,
   "metadata": {},
   "outputs": [
    {
     "data": {
      "text/plain": [
       "['song1.txt',\n",
       " 'song2.txt',\n",
       " 'song3.txt',\n",
       " 'song4.txt',\n",
       " 'song5.txt',\n",
       " 'song6.txt',\n",
       " 'song7.txt',\n",
       " 'song8.txt',\n",
       " 'song9.txt',\n",
       " 'song10.txt',\n",
       " 'song11.txt',\n",
       " 'song12.txt',\n",
       " 'song13.txt',\n",
       " 'song14.txt',\n",
       " 'song15.txt',\n",
       " 'song16.txt',\n",
       " 'song17.txt',\n",
       " 'song18.txt',\n",
       " 'song19.txt',\n",
       " 'song20.txt']"
      ]
     },
     "execution_count": 2,
     "metadata": {},
     "output_type": "execute_result"
    }
   ],
   "source": [
    "filenames = ['song'+str(i)+'.txt' for i in range(1,21)]\n",
    "filenames"
   ]
  },
  {
   "cell_type": "code",
   "execution_count": 1,
   "metadata": {
    "scrolled": true
   },
   "outputs": [
    {
     "data": {
      "text/plain": [
       "['song19.txt',\n",
       " 'song10.txt',\n",
       " 'song11.txt',\n",
       " 'song15.txt',\n",
       " 'song14.txt',\n",
       " 'song18.txt',\n",
       " 'song2.txt',\n",
       " 'song17.txt',\n",
       " 'song4.txt',\n",
       " 'song20.txt',\n",
       " 'song7.txt',\n",
       " 'song6.txt',\n",
       " 'song1.txt',\n",
       " 'song12.txt',\n",
       " 'song13.txt',\n",
       " 'song9.txt',\n",
       " 'song5.txt',\n",
       " 'song3.txt',\n",
       " 'song8.txt',\n",
       " 'song16.txt']"
      ]
     },
     "execution_count": 1,
     "metadata": {},
     "output_type": "execute_result"
    }
   ],
   "source": [
    "import os\n",
    "[filename for filename in os.listdir('data/')\n",
    " if filename.startswith('song')]"
   ]
  },
  {
   "cell_type": "markdown",
   "metadata": {},
   "source": [
    "Next, let's import a single song to see what our text looks like so that we can make sure we clean and tokenize it correctly. \n",
    "\n",
    "In the cell below, read in and print out the lyrics from `song11.txt`.  Use vanilla python, no pandas needed.  "
   ]
  },
  {
   "cell_type": "code",
   "execution_count": 2,
   "metadata": {},
   "outputs": [
    {
     "name": "stdout",
     "output_type": "stream",
     "text": [
      "[Kendrick Lamar:]\n",
      "Love, let's talk about love\n",
      "Is it anything and everything you hoped for?\n",
      "Or do the feeling haunt you?\n",
      "I know the feeling haunt you\n",
      "[SZA:]\n",
      "This may be the night that my dreams might let me know\n",
      "All the stars approach you, all the stars approach you, all the stars approach you\n",
      "This may be the night that my dreams might let me know\n",
      "All the stars are closer, all the stars are closer, all the stars are closer\n",
      "[Kendrick Lamar:]\n",
      "Tell me what you gon' do to me\n",
      "Confrontation ain't nothin' new to me\n",
      "You can bring a bullet, bring a sword, bring a morgue\n",
      "But you can't bring the truth to me\n",
      "Fuck you and all your expectations\n",
      "I don't even want your congratulations\n",
      "I recognize your false confidence\n",
      "And calculated promises all in your conversation\n",
      "I hate people that feel entitled\n",
      "Look at me crazy 'cause I ain't invite you\n",
      "Oh, you important?\n",
      "You the moral to the story? You endorsin'?\n",
      "Motherfucker, I don't even like you\n",
      "Corrupt a man's heart with a gift\n",
      "That's how you find out who you dealin' with\n",
      "A small percentage who I'm buildin' with\n",
      "I want the credit if I'm losin' or I'm winnin'\n",
      "On my momma, that's the realest shit\n",
      "Love, let's talk about love\n",
      "Is it anything and everything you hoped for?\n",
      "Or do the feeling haunt you?\n",
      "I know the feeling haunt you\n",
      "[SZA:]\n",
      "This may be the night that my dreams might let me know\n",
      "All the stars approach you, all the stars approach you, all the stars approach you\n",
      "This may be the night that my dreams might let me know\n",
      "All the stars are closer, all the stars are closer, all the stars are closer\n",
      "Skin covered in ego\n",
      "Get to talkin' like ya involved, like a rebound\n",
      "Got no end game, got no reason\n",
      "Got to stay down, it's the way that you making me feel\n",
      "Like nobody ever loved me like you do, you do\n",
      "You kinda feeling like you're tryna get away from me\n",
      "If you do, I won't move\n",
      "I ain't just cryin' for no reason\n",
      "I ain't just prayin' for no reason\n",
      "I give thanks for the days, for the hours\n",
      "And another way, another life breathin'\n",
      "I did it all 'cause it feel good\n",
      "I wouldn't do it at all if it feel bad\n",
      "Better live your life, we're runnin' out of time\n",
      "[Kendrick Lamar & SZA:]\n",
      "Love, let's talk about love\n",
      "Is it anything and everything you hoped for?\n",
      "Or do the feeling haunt you?\n",
      "I know the feeling haunt you\n",
      "[SZA:]\n",
      "This may be the night that my dreams might let me know\n",
      "All the stars approach you, all the stars approach you, all the stars approach you\n",
      "This may be the night that my dreams might let me know\n",
      "All the stars are closer, all the stars are closer, all the stars are closer\n",
      "\n"
     ]
    }
   ],
   "source": [
    "with open('data/song11.txt','r') as f:\n",
    "    song11 = f.read()\n",
    "print(song11)"
   ]
  },
  {
   "cell_type": "markdown",
   "metadata": {},
   "source": [
    "### Tokenizing our Data\n",
    "\n",
    "Before we can create a Bag of Words or vectorize each document, we need to clean it up and split each song into an array of individual words.  Computers are very particular about strings. If we tokenized our data in it's current state, we would run into the following problems:\n",
    "\n",
    "1. Counting things that aren't actually words.  In the example above, `\"[Kendrick]\"` is a note specifying who is speaking, not a lyric contained in the actual song, so it should be removed.  \n",
    "1. Punctuation and capitalization would mess up our word counts.  To the python interpreter, `love`, `Love`, `Love?`, and `Love\\n` are all unique words, and would all be counted separately.  We need to remove punctuation and capitalization, so that all words will be counted correctly. \n",
    "\n",
    "Consider the following sentences from the example above:\n",
    "\n",
    "`\"Love, let's talk about love\\n\", 'Is it anything and everything you hoped for?\\n'`\n",
    "\n",
    "After tokenization, this should look like:\n",
    "\n",
    "`['love', 'let's', 'talk', 'about', 'love', 'is', 'it', 'anything', 'and', 'everything', 'you', 'hoped', 'for']`\n",
    "\n",
    "Tokenization is pretty tedious if we handle it manually, and would probably make use of Regular Expressions, which is outside the scope of this lab.  In order to keep this lab moving, we'll use a library function to clean and tokenize our data so that we can move onto vectorization.  \n",
    "\n",
    "Tokenization is a required task for just about any Natural Language Processing (NLP) task, so great industry-standard tools exist to tokenize things for us, so that we can spend our time on more important tasks without getting bogged down hunting every special symbol or punctuation in a massive dataset. For this lab, we'll make use of the tokenizer in the amazing `nltk` library, which is short for _Natural Language Tool Kit_.\n",
    "\n",
    "**_NOTE:_** NLTK requires extra installation methods to be run the first time certain methods are used.  If `nltk` throws you an error about needing to install additional packages, follow the instructions in the error message to install the dependencies, and then rerun the cell.  \n",
    "\n",
    "Before we tokenize our songs, we'll do only a small manual bit of cleaning.  In the cell below, write a function that allows us to remove lines that have `['artist names']` in it, to ensure that our song files contain only lyrics that are actually in the song. For the lines that remain, make every word lowercase, remove newline characters `\\n`, and any of the following punctuation marks: `\",.'?!\"`\n",
    "\n",
    "Test the function on `test_song` to show that it has successfully removed `'[Kendrick Lamar:]'` and other instances of artist names from the song and returned it.  "
   ]
  },
  {
   "cell_type": "code",
   "execution_count": 17,
   "metadata": {},
   "outputs": [
    {
     "data": {
      "text/plain": [
       "' love lets talk about love is it anything and everything you hoped for or do the feeling haunt you i know the feeling haunt you  this may be the night that my dreams might let me know all the stars approach you all the stars approach you all the stars approach you this may be the night that my dreams might let me know all the stars are closer all the stars are closer all the stars are closer  tell me what you gon do to me confrontation aint nothin new to me you can bring a bullet bring a sword bring a morgue but you cant bring the truth to me fuck you and all your expectations i dont even want your congratulations i recognize your false confidence and calculated promises all in your conversation i hate people that feel entitled look at me crazy cause i aint invite you oh you important you the moral to the story you endorsin motherfucker i dont even like you corrupt a mans heart with a gift thats how you find out who you dealin with a small percentage who im buildin with i want the credit if im losin or im winnin on my momma thats the realest shit love lets talk about love is it anything and everything you hoped for or do the feeling haunt you i know the feeling haunt you  this may be the night that my dreams might let me know all the stars approach you all the stars approach you all the stars approach you this may be the night that my dreams might let me know all the stars are closer all the stars are closer all the stars are closer skin covered in ego get to talkin like ya involved like a rebound got no end game got no reason got to stay down its the way that you making me feel like nobody ever loved me like you do you do you kinda feeling like youre tryna get away from me if you do i wont move i aint just cryin for no reason i aint just prayin for no reason i give thanks for the days for the hours and another way another life breathin i did it all cause it feel good i wouldnt do it at all if it feel bad better live your life were runnin out of time  love lets talk about love is it anything and everything you hoped for or do the feeling haunt you i know the feeling haunt you  this may be the night that my dreams might let me know all the stars approach you all the stars approach you all the stars approach you this may be the night that my dreams might let me know all the stars are closer all the stars are closer all the stars are closer '"
      ]
     },
     "execution_count": 17,
     "metadata": {},
     "output_type": "execute_result"
    }
   ],
   "source": [
    "punctuation = \",.'?!\"\n",
    "\n",
    "def clean_song(song):\n",
    "    cleaned_song = song.replace('\\n', ' ')\n",
    "\n",
    "    while True:\n",
    "        bracket_text = cleaned_song[cleaned_song.find(\"[\"):cleaned_song.find(\"]\")+1]\n",
    "        if bracket_text:\n",
    "            cleaned_song = cleaned_song.replace(bracket_text, '')\n",
    "        else:\n",
    "            break\n",
    "\n",
    "    cleaned_song = cleaned_song.lower()\n",
    "\n",
    "    for char in cleaned_song:\n",
    "        if char in punctuation:\n",
    "            cleaned_song = cleaned_song.replace(char, '')\n",
    "\n",
    "    return cleaned_song\n",
    "\n",
    "cleaned_song = clean_song(song11)\n",
    "cleaned_song"
   ]
  },
  {
   "cell_type": "markdown",
   "metadata": {},
   "source": [
    "Great. Now, write a function that takes in songs that have had their brackets removed, joins all of the lines into a single string, and then uses `tokenize()` on it to get a fully tokenized version of the song.  Test this funtion on `song_without_brackets` to ensure that the function works. "
   ]
  },
  {
   "cell_type": "code",
   "execution_count": 33,
   "metadata": {},
   "outputs": [
    {
     "data": {
      "text/plain": [
       "['love',\n",
       " 'lets',\n",
       " 'talk',\n",
       " 'about',\n",
       " 'love',\n",
       " 'is',\n",
       " 'it',\n",
       " 'anything',\n",
       " 'and',\n",
       " 'everything']"
      ]
     },
     "execution_count": 33,
     "metadata": {},
     "output_type": "execute_result"
    }
   ],
   "source": [
    "def tokenize(song):\n",
    "    \"\"\"Return a list of words from strings\"\"\"\n",
    "    text = clean_song(song)\n",
    "    words = [word for word in text.split()]\n",
    "    return words\n",
    "\n",
    "tokenized_test_song = tokenize(song11)\n",
    "tokenized_test_song[:10]"
   ]
  },
  {
   "cell_type": "markdown",
   "metadata": {},
   "source": [
    "Great! Now that we know the ability to tokenize our songs, we can move onto Vectorization. \n",
    "\n",
    "### Count Vectorization\n",
    "\n",
    "Machine Learning algorithms don't understand strings.  However, they do understand math, which means they understand vectors and matrices.  By **_Vectorizing_** the text, we just convert the entire text into a vector, where each element in the vector represents a different word.  The vector is the length of the entire vocabulary--usually, every word that occurs in the English language, or at least every word that appears in our corpus.  Any given sentence can then be represented as a vector where all the vector is 1 (or some other value) for each time that word appears in the sentence. \n",
    "\n",
    "Consider the following example: \n",
    "\n",
    "<center>\"I scream, you scream, we all scream for ice cream.\"</center>\n",
    "\n",
    "| 'aardvark' | 'apple' | [...] | 'I' | 'you' | 'scream' | 'we' | 'all' | 'for' | 'ice' | 'cream' | [...] | 'xylophone' | 'zebra' |\n",
    "|:----------:|:-------:|:-----:|:---:|:-----:|:--------:|:----:|:-----:|:-----:|:-----:|:-------:|:-----:|:-----------:|:-------:|\n",
    "|      0     |    0    |   0   |  1  |   1   |     3    |   1  |   1   |   1   |   1   |    1    |   0   |      0      |    0    |\n",
    "\n",
    "This is called a **_Sparse Representation_**, since the strong majority of the columns will have a value of 0.  Note that elements corresponding to words that do not occur in the sentence have a value of 0, while words that do appear in the sentence have a value of 1 (or 1 for each time it appears in the sentence).\n",
    "\n",
    "Alternatively, we can represent this sentence as a plain old python dictionary of word frequency counts:\n",
    "\n",
    "```python\n",
    "BoW = {\n",
    "    'I':1,\n",
    "    'you':1,\n",
    "    'scream':3,\n",
    "    'we':1,\n",
    "    'all':1,\n",
    "    'for':1,\n",
    "    'ice':1,\n",
    "    'cream':1\n",
    "}\n",
    "```\n",
    "\n",
    "Both of these are examples of **_Count Vectorization_**. They allow us to represent a sentence as a vector, with each element in the vector corresponding to how many times that word is used.\n",
    "\n",
    "#### Positional Information and Bag of Words\n",
    "\n",
    "Notice that when we vectorize a sentence this way, we lose the order that the words were in.  This is the **_Bag of Words_** approach mentioned earlier.  Note that sentences that contain the same words will create the same vectors, even if they mean different things--e.g. `'cats are scared of dogs'` and `'dogs are scared of cats'` would both produce the exact same vector, since they contain the same words.  \n",
    "\n",
    "In the cell below, create a function that takes in a tokenized, cleaned song and returns a Count Vectorized representation of it as a python dictionary. Add in an optional parameter called `vocab` that defaults to `None`. This way, if we are using a vocabulary that contains words not seen in the song, we can still use this function by passing it in to the `vocab` parameter. \n",
    "\n",
    "**_Hint:_**  Consider using a `set` object to make this easier!"
   ]
  },
  {
   "cell_type": "code",
   "execution_count": 37,
   "metadata": {},
   "outputs": [
    {
     "data": {
      "text/html": [
       "<div>\n",
       "<style scoped>\n",
       "    .dataframe tbody tr th:only-of-type {\n",
       "        vertical-align: middle;\n",
       "    }\n",
       "\n",
       "    .dataframe tbody tr th {\n",
       "        vertical-align: top;\n",
       "    }\n",
       "\n",
       "    .dataframe thead th {\n",
       "        text-align: right;\n",
       "    }\n",
       "</style>\n",
       "<table border=\"1\" class=\"dataframe\">\n",
       "  <thead>\n",
       "    <tr style=\"text-align: right;\">\n",
       "      <th></th>\n",
       "      <th>a</th>\n",
       "      <th>about</th>\n",
       "      <th>aint</th>\n",
       "      <th>all</th>\n",
       "      <th>and</th>\n",
       "      <th>another</th>\n",
       "      <th>anything</th>\n",
       "      <th>approach</th>\n",
       "      <th>are</th>\n",
       "      <th>at</th>\n",
       "      <th>...</th>\n",
       "      <th>what</th>\n",
       "      <th>who</th>\n",
       "      <th>winnin</th>\n",
       "      <th>with</th>\n",
       "      <th>wont</th>\n",
       "      <th>wouldnt</th>\n",
       "      <th>ya</th>\n",
       "      <th>you</th>\n",
       "      <th>your</th>\n",
       "      <th>youre</th>\n",
       "    </tr>\n",
       "  </thead>\n",
       "  <tbody>\n",
       "    <tr>\n",
       "      <th>0</th>\n",
       "      <td>7</td>\n",
       "      <td>3</td>\n",
       "      <td>4</td>\n",
       "      <td>22</td>\n",
       "      <td>6</td>\n",
       "      <td>2</td>\n",
       "      <td>3</td>\n",
       "      <td>9</td>\n",
       "      <td>9</td>\n",
       "      <td>2</td>\n",
       "      <td>...</td>\n",
       "      <td>1</td>\n",
       "      <td>2</td>\n",
       "      <td>1</td>\n",
       "      <td>3</td>\n",
       "      <td>1</td>\n",
       "      <td>1</td>\n",
       "      <td>1</td>\n",
       "      <td>34</td>\n",
       "      <td>5</td>\n",
       "      <td>1</td>\n",
       "    </tr>\n",
       "  </tbody>\n",
       "</table>\n",
       "<p>1 rows × 152 columns</p>\n",
       "</div>"
      ],
      "text/plain": [
       "   a  about  aint  all  and  another  anything  approach  are  at  ...    \\\n",
       "0  7      3     4   22    6        2         3         9    9   2  ...     \n",
       "\n",
       "   what  who  winnin  with  wont  wouldnt  ya  you  your  youre  \n",
       "0     1    2       1     3     1        1   1   34     5      1  \n",
       "\n",
       "[1 rows x 152 columns]"
      ]
     },
     "execution_count": 37,
     "metadata": {},
     "output_type": "execute_result"
    }
   ],
   "source": [
    "def count_vectorize(song, vocab=None):\n",
    "    return pd.DataFrame([Counter(song)])\n",
    "\n",
    "test_vectorized_df = count_vectorize(tokenized_test_song)\n",
    "test_vectorized_df"
   ]
  },
  {
   "cell_type": "code",
   "execution_count": 46,
   "metadata": {},
   "outputs": [
    {
     "data": {
      "text/plain": [
       "{'a': 7,\n",
       " 'about': 3,\n",
       " 'aint': 4,\n",
       " 'all': 22,\n",
       " 'and': 6,\n",
       " 'another': 2,\n",
       " 'anything': 3,\n",
       " 'approach': 9,\n",
       " 'are': 9,\n",
       " 'at': 2,\n",
       " 'away': 1,\n",
       " 'bad': 1,\n",
       " 'be': 6,\n",
       " 'better': 1,\n",
       " 'breathin': 1,\n",
       " 'bring': 4,\n",
       " 'buildin': 1,\n",
       " 'bullet': 1,\n",
       " 'but': 1,\n",
       " 'calculated': 1,\n",
       " 'can': 1,\n",
       " 'cant': 1,\n",
       " 'cause': 2,\n",
       " 'closer': 9,\n",
       " 'confidence': 1,\n",
       " 'confrontation': 1,\n",
       " 'congratulations': 1,\n",
       " 'conversation': 1,\n",
       " 'corrupt': 1,\n",
       " 'covered': 1,\n",
       " 'crazy': 1,\n",
       " 'credit': 1,\n",
       " 'cryin': 1,\n",
       " 'days': 1,\n",
       " 'dealin': 1,\n",
       " 'did': 1,\n",
       " 'do': 8,\n",
       " 'dont': 2,\n",
       " 'down': 1,\n",
       " 'dreams': 6,\n",
       " 'ego': 1,\n",
       " 'end': 1,\n",
       " 'endorsin': 1,\n",
       " 'entitled': 1,\n",
       " 'even': 2,\n",
       " 'ever': 1,\n",
       " 'everything': 3,\n",
       " 'expectations': 1,\n",
       " 'false': 1,\n",
       " 'feel': 4,\n",
       " 'feeling': 7,\n",
       " 'find': 1,\n",
       " 'for': 7,\n",
       " 'from': 1,\n",
       " 'fuck': 1,\n",
       " 'game': 1,\n",
       " 'get': 2,\n",
       " 'gift': 1,\n",
       " 'give': 1,\n",
       " 'gon': 1,\n",
       " 'good': 1,\n",
       " 'got': 3,\n",
       " 'hate': 1,\n",
       " 'haunt': 6,\n",
       " 'heart': 1,\n",
       " 'hoped': 3,\n",
       " 'hours': 1,\n",
       " 'how': 1,\n",
       " 'i': 15,\n",
       " 'if': 3,\n",
       " 'im': 3,\n",
       " 'important': 1,\n",
       " 'in': 2,\n",
       " 'invite': 1,\n",
       " 'involved': 1,\n",
       " 'is': 3,\n",
       " 'it': 7,\n",
       " 'its': 1,\n",
       " 'just': 2,\n",
       " 'kinda': 1,\n",
       " 'know': 9,\n",
       " 'let': 6,\n",
       " 'lets': 3,\n",
       " 'life': 2,\n",
       " 'like': 6,\n",
       " 'live': 1,\n",
       " 'look': 1,\n",
       " 'losin': 1,\n",
       " 'love': 6,\n",
       " 'loved': 1,\n",
       " 'making': 1,\n",
       " 'mans': 1,\n",
       " 'may': 6,\n",
       " 'me': 14,\n",
       " 'might': 6,\n",
       " 'momma': 1,\n",
       " 'moral': 1,\n",
       " 'morgue': 1,\n",
       " 'motherfucker': 1,\n",
       " 'move': 1,\n",
       " 'my': 7,\n",
       " 'new': 1,\n",
       " 'night': 6,\n",
       " 'no': 4,\n",
       " 'nobody': 1,\n",
       " 'nothin': 1,\n",
       " 'of': 1,\n",
       " 'oh': 1,\n",
       " 'on': 1,\n",
       " 'or': 4,\n",
       " 'out': 2,\n",
       " 'people': 1,\n",
       " 'percentage': 1,\n",
       " 'prayin': 1,\n",
       " 'promises': 1,\n",
       " 'realest': 1,\n",
       " 'reason': 3,\n",
       " 'rebound': 1,\n",
       " 'recognize': 1,\n",
       " 'runnin': 1,\n",
       " 'shit': 1,\n",
       " 'skin': 1,\n",
       " 'small': 1,\n",
       " 'stars': 18,\n",
       " 'stay': 1,\n",
       " 'story': 1,\n",
       " 'sword': 1,\n",
       " 'talk': 3,\n",
       " 'talkin': 1,\n",
       " 'tell': 1,\n",
       " 'thanks': 1,\n",
       " 'that': 8,\n",
       " 'thats': 2,\n",
       " 'the': 38,\n",
       " 'this': 6,\n",
       " 'time': 1,\n",
       " 'to': 6,\n",
       " 'truth': 1,\n",
       " 'tryna': 1,\n",
       " 'want': 2,\n",
       " 'way': 2,\n",
       " 'were': 1,\n",
       " 'what': 1,\n",
       " 'who': 2,\n",
       " 'winnin': 1,\n",
       " 'with': 3,\n",
       " 'wont': 1,\n",
       " 'wouldnt': 1,\n",
       " 'ya': 1,\n",
       " 'you': 34,\n",
       " 'your': 5,\n",
       " 'youre': 1}"
      ]
     },
     "execution_count": 46,
     "metadata": {},
     "output_type": "execute_result"
    }
   ],
   "source": [
    "test_vectorized_dict = test_vectorized_df.to_dict('r')[0]\n",
    "test_vectorized_dict"
   ]
  },
  {
   "cell_type": "markdown",
   "metadata": {},
   "source": [
    "Great! You've just successfully vectorized your first text document! Now, let's look at a more advanced type of vectorization, TF-IDF!\n",
    "\n",
    "### TF-IDF Vectorization\n",
    "\n",
    "TF-IDF stands for **_Term Frequency, Inverse Document Frequency_**.  This is a more advanced form of vectorization that weights each term in a document by how unique it is to the given document it is contained in, which allows us to summarize the contents of a document using a few key words.  If the word is used often in many other documents, it is not unique, and therefore probably not too useful if we wanted to figure out how this document is unique in relation to other documents.  Conversely, if a word is used many times in a document, but rarely in all the other documents we are considering, then it is likely a good indicator for telling us that this word is important to the document in question.  \n",
    "\n",
    "The formula TF-IDF uses to determine the weights of each term in a document is **_Term Frequency_** multipled by **_Inverse Document Frequency_**, where the formula for Term Frequency is:\n",
    "\n",
    "$$\\large Term\\ Frequency(t) = \\frac{number\\ of\\ times\\ t\\ appears\\ in\\ a\\ document} {total\\ number\\ of\\ terms\\ in\\ the\\ document} $$\n",
    "<br>\n",
    "<br>\n",
    "Complete the following function below to calculate term frequency for every term in a document.  "
   ]
  },
  {
   "cell_type": "code",
   "execution_count": 55,
   "metadata": {},
   "outputs": [
    {
     "data": {
      "text/plain": [
       "{'a': 0.014583333333333334,\n",
       " 'about': 0.00625,\n",
       " 'aint': 0.008333333333333333,\n",
       " 'all': 0.04583333333333333,\n",
       " 'and': 0.0125,\n",
       " 'another': 0.004166666666666667,\n",
       " 'anything': 0.00625,\n",
       " 'approach': 0.01875,\n",
       " 'are': 0.01875,\n",
       " 'at': 0.004166666666666667,\n",
       " 'away': 0.0020833333333333333,\n",
       " 'bad': 0.0020833333333333333,\n",
       " 'be': 0.0125,\n",
       " 'better': 0.0020833333333333333,\n",
       " 'breathin': 0.0020833333333333333,\n",
       " 'bring': 0.008333333333333333,\n",
       " 'buildin': 0.0020833333333333333,\n",
       " 'bullet': 0.0020833333333333333,\n",
       " 'but': 0.0020833333333333333,\n",
       " 'calculated': 0.0020833333333333333,\n",
       " 'can': 0.0020833333333333333,\n",
       " 'cant': 0.0020833333333333333,\n",
       " 'cause': 0.004166666666666667,\n",
       " 'closer': 0.01875,\n",
       " 'confidence': 0.0020833333333333333,\n",
       " 'confrontation': 0.0020833333333333333,\n",
       " 'congratulations': 0.0020833333333333333,\n",
       " 'conversation': 0.0020833333333333333,\n",
       " 'corrupt': 0.0020833333333333333,\n",
       " 'covered': 0.0020833333333333333,\n",
       " 'crazy': 0.0020833333333333333,\n",
       " 'credit': 0.0020833333333333333,\n",
       " 'cryin': 0.0020833333333333333,\n",
       " 'days': 0.0020833333333333333,\n",
       " 'dealin': 0.0020833333333333333,\n",
       " 'did': 0.0020833333333333333,\n",
       " 'do': 0.016666666666666666,\n",
       " 'dont': 0.004166666666666667,\n",
       " 'down': 0.0020833333333333333,\n",
       " 'dreams': 0.0125,\n",
       " 'ego': 0.0020833333333333333,\n",
       " 'end': 0.0020833333333333333,\n",
       " 'endorsin': 0.0020833333333333333,\n",
       " 'entitled': 0.0020833333333333333,\n",
       " 'even': 0.004166666666666667,\n",
       " 'ever': 0.0020833333333333333,\n",
       " 'everything': 0.00625,\n",
       " 'expectations': 0.0020833333333333333,\n",
       " 'false': 0.0020833333333333333,\n",
       " 'feel': 0.008333333333333333,\n",
       " 'feeling': 0.014583333333333334,\n",
       " 'find': 0.0020833333333333333,\n",
       " 'for': 0.014583333333333334,\n",
       " 'from': 0.0020833333333333333,\n",
       " 'fuck': 0.0020833333333333333,\n",
       " 'game': 0.0020833333333333333,\n",
       " 'get': 0.004166666666666667,\n",
       " 'gift': 0.0020833333333333333,\n",
       " 'give': 0.0020833333333333333,\n",
       " 'gon': 0.0020833333333333333,\n",
       " 'good': 0.0020833333333333333,\n",
       " 'got': 0.00625,\n",
       " 'hate': 0.0020833333333333333,\n",
       " 'haunt': 0.0125,\n",
       " 'heart': 0.0020833333333333333,\n",
       " 'hoped': 0.00625,\n",
       " 'hours': 0.0020833333333333333,\n",
       " 'how': 0.0020833333333333333,\n",
       " 'i': 0.03125,\n",
       " 'if': 0.00625,\n",
       " 'im': 0.00625,\n",
       " 'important': 0.0020833333333333333,\n",
       " 'in': 0.004166666666666667,\n",
       " 'invite': 0.0020833333333333333,\n",
       " 'involved': 0.0020833333333333333,\n",
       " 'is': 0.00625,\n",
       " 'it': 0.014583333333333334,\n",
       " 'its': 0.0020833333333333333,\n",
       " 'just': 0.004166666666666667,\n",
       " 'kinda': 0.0020833333333333333,\n",
       " 'know': 0.01875,\n",
       " 'let': 0.0125,\n",
       " 'lets': 0.00625,\n",
       " 'life': 0.004166666666666667,\n",
       " 'like': 0.0125,\n",
       " 'live': 0.0020833333333333333,\n",
       " 'look': 0.0020833333333333333,\n",
       " 'losin': 0.0020833333333333333,\n",
       " 'love': 0.0125,\n",
       " 'loved': 0.0020833333333333333,\n",
       " 'making': 0.0020833333333333333,\n",
       " 'mans': 0.0020833333333333333,\n",
       " 'may': 0.0125,\n",
       " 'me': 0.029166666666666667,\n",
       " 'might': 0.0125,\n",
       " 'momma': 0.0020833333333333333,\n",
       " 'moral': 0.0020833333333333333,\n",
       " 'morgue': 0.0020833333333333333,\n",
       " 'motherfucker': 0.0020833333333333333,\n",
       " 'move': 0.0020833333333333333,\n",
       " 'my': 0.014583333333333334,\n",
       " 'new': 0.0020833333333333333,\n",
       " 'night': 0.0125,\n",
       " 'no': 0.008333333333333333,\n",
       " 'nobody': 0.0020833333333333333,\n",
       " 'nothin': 0.0020833333333333333,\n",
       " 'of': 0.0020833333333333333,\n",
       " 'oh': 0.0020833333333333333,\n",
       " 'on': 0.0020833333333333333,\n",
       " 'or': 0.008333333333333333,\n",
       " 'out': 0.004166666666666667,\n",
       " 'people': 0.0020833333333333333,\n",
       " 'percentage': 0.0020833333333333333,\n",
       " 'prayin': 0.0020833333333333333,\n",
       " 'promises': 0.0020833333333333333,\n",
       " 'realest': 0.0020833333333333333,\n",
       " 'reason': 0.00625,\n",
       " 'rebound': 0.0020833333333333333,\n",
       " 'recognize': 0.0020833333333333333,\n",
       " 'runnin': 0.0020833333333333333,\n",
       " 'shit': 0.0020833333333333333,\n",
       " 'skin': 0.0020833333333333333,\n",
       " 'small': 0.0020833333333333333,\n",
       " 'stars': 0.0375,\n",
       " 'stay': 0.0020833333333333333,\n",
       " 'story': 0.0020833333333333333,\n",
       " 'sword': 0.0020833333333333333,\n",
       " 'talk': 0.00625,\n",
       " 'talkin': 0.0020833333333333333,\n",
       " 'tell': 0.0020833333333333333,\n",
       " 'thanks': 0.0020833333333333333,\n",
       " 'that': 0.016666666666666666,\n",
       " 'thats': 0.004166666666666667,\n",
       " 'the': 0.07916666666666666,\n",
       " 'this': 0.0125,\n",
       " 'time': 0.0020833333333333333,\n",
       " 'to': 0.0125,\n",
       " 'truth': 0.0020833333333333333,\n",
       " 'tryna': 0.0020833333333333333,\n",
       " 'want': 0.004166666666666667,\n",
       " 'way': 0.004166666666666667,\n",
       " 'were': 0.0020833333333333333,\n",
       " 'what': 0.0020833333333333333,\n",
       " 'who': 0.004166666666666667,\n",
       " 'winnin': 0.0020833333333333333,\n",
       " 'with': 0.00625,\n",
       " 'wont': 0.0020833333333333333,\n",
       " 'wouldnt': 0.0020833333333333333,\n",
       " 'ya': 0.0020833333333333333,\n",
       " 'you': 0.07083333333333333,\n",
       " 'your': 0.010416666666666666,\n",
       " 'youre': 0.0020833333333333333}"
      ]
     },
     "execution_count": 55,
     "metadata": {},
     "output_type": "execute_result"
    }
   ],
   "source": [
    "def term_frequency(BoW_dict):\n",
    "    tf_dict = {}\n",
    "    total_term_counter = 0\n",
    "    for value in BoW_dict.values():\n",
    "        total_term_counter += value\n",
    "    for key, value in BoW_dict.items():\n",
    "        tf_dict[key] = value/total_term_counter\n",
    "    return tf_dict\n",
    "\n",
    "tf_test = term_frequency(test_vectorized_dict)\n",
    "#test\n",
    "#print(list(test)[10:20])\n",
    "tf_test\n"
   ]
  },
  {
   "cell_type": "markdown",
   "metadata": {},
   "source": [
    "The formula for Inverse Document Frequency is:  \n",
    "<br>  \n",
    "<br>\n",
    "$$\\large  IDF(t) =  log_e(\\frac{Total\\ Number\\ of\\ Documents}{Number\\ of\\ Documents\\ with\\ t\\ in\\ it})$$\n",
    "\n",
    "Now that we have this, we can easily calculate _Inverse Document Frequency_.  In the cell below, complete the following function.  this function should take in the list of dictionaries, with each item in the list being a Bag of Words representing the words in a different song. The function should return a dictionary containing the inverse document frequency values for each word.  "
   ]
  },
  {
   "cell_type": "code",
   "execution_count": 56,
   "metadata": {},
   "outputs": [],
   "source": [
    "def inverse_document_frequency(list_of_dicts):\n",
    "    num_of_doc = len(list_of_dicts)\n",
    "\n",
    "    idf_dict = {}\n",
    "\n",
    "    for song_dic in list_of_dicts:\n",
    "\n",
    "        for key in song_dic.keys():\n",
    "\n",
    "            if key not in idf_dict.keys():\n",
    "                idf_dict.update({key: 1})\n",
    "\n",
    "            else:\n",
    "                idf_dict[key] += 1\n",
    "\n",
    "\n",
    "    for key, value in idf_dict.items():\n",
    "        idf_dict[key] = np.log(num_of_doc/value)\n",
    "\n",
    "    return idf_dict"
   ]
  },
  {
   "cell_type": "markdown",
   "metadata": {},
   "source": [
    "### Computing TF-IDF\n",
    "\n",
    "Now that we can compute both Term Frequency and Inverse Document Frequency, computing an overall TF-IDF value is simple! All we need to do is multiply the two values.  \n",
    "\n",
    "In the cell below, complete the `tf_idf()` function.  This function should take in a list of dictionaries, just as the `inverse_document_frequency()` function did.  This function return a new list of dictionaries, with each dictionary containing the tf-idf vectorized representation of a corresponding song document. \n",
    "\n",
    "**_NOTE:_** Each document should contain the full vocabulary of the entire combined corpus.  "
   ]
  },
  {
   "cell_type": "code",
   "execution_count": 5,
   "metadata": {},
   "outputs": [],
   "source": [
    "def tf_idf(list_of_dicts):\n",
    "\n",
    "    idf_dict = inverse_document_frequency(list_of_dicts)\n",
    "\n",
    "    tf_list_of_dict = []\n",
    "    tf_idf_list_of_dict = []\n",
    "\n",
    "   #\n",
    "    for dic in list_of_dicts:\n",
    "        tf_list_of_dict.append(term_frequency(dic))\n",
    "\n",
    "\n",
    "\n",
    "    for tf_dict in tf_list_of_dict:\n",
    "\n",
    "        tf_idf_dict = {}\n",
    "\n",
    "        for key, value in tf_dict.items():\n",
    "\n",
    "            tf_idf_dict[key] = idf_dict[key] * tf_dict[key]\n",
    "\n",
    "        tf_idf_list_of_dict.append(tf_idf_dict)\n",
    "\n",
    "    return tf_idf_list_of_dict"
   ]
  },
  {
   "cell_type": "markdown",
   "metadata": {},
   "source": [
    "### Vectorizing All Documents\n",
    "\n",
    "Now that we've created all the necessary helper functions, we can load in all of our documents and run each through the vectorization pipeline we've just created.\n",
    "\n",
    "In the cell below, complete the `main` function.  This function should take in a list of file names (provided for you in the `filenames` list we created at the start), and then:\n",
    "\n",
    "1. Read in each document\n",
    "1. Tokenize each document\n",
    "1. Convert each document to a Bag of Words (dictionary representation)\n",
    "1. Return a list of dictionaries vectorized using tf-idf, where each dictionary is a vectorized representation of a document.  \n",
    "\n",
    "**_HINT:_** Remember that all files are stored in the `data/` directory.  Be sure to append this to the filename when reading in each file, otherwise the path won't be correct!"
   ]
  },
  {
   "cell_type": "code",
   "execution_count": null,
   "metadata": {},
   "outputs": [],
   "source": [
    "def main(filenames):\n",
    "    pass\n",
    "\n",
    "tf_idf_all_docs = None\n",
    "print(list(tf_idf_all_docs[0])[:10])"
   ]
  },
  {
   "cell_type": "code",
   "execution_count": 3,
   "metadata": {},
   "outputs": [],
   "source": [
    "from sklearn.feature_extraction.text import TfidfVectorizer"
   ]
  },
  {
   "cell_type": "code",
   "execution_count": 4,
   "metadata": {},
   "outputs": [],
   "source": [
    "import glob"
   ]
  },
  {
   "cell_type": "code",
   "execution_count": 6,
   "metadata": {},
   "outputs": [],
   "source": [
    "filenames = glob.glob('data/song*.txt')"
   ]
  },
  {
   "cell_type": "code",
   "execution_count": 7,
   "metadata": {},
   "outputs": [
    {
     "data": {
      "text/plain": [
       "20"
      ]
     },
     "execution_count": 7,
     "metadata": {},
     "output_type": "execute_result"
    }
   ],
   "source": [
    "len(filenames)"
   ]
  },
  {
   "cell_type": "code",
   "execution_count": 8,
   "metadata": {},
   "outputs": [
    {
     "name": "stdout",
     "output_type": "stream",
     "text": [
      "We took Ventura Highway to the Sunshine State\r\n",
      "Where they raised their hands to Jesus as they passed the plate\r\n",
      "Oh, and every day we spent there was Valentine's day\r\n",
      "There's a new team, out in Queens, 8teen\r\n",
      "And the girl made in Japan was made for me to hold\r\n",
      "When Vincent lent an ear the night the thunder rolled\r\n",
      "And the ride we took together was a rodeo\r\n",
      "Big dreams, six strings, 8teen\r\n",
      "And for everyone born 8teen runnin' wild and free\r\n",
      "From the pearly gates of Heaven to the fiery sea\r\n"
     ]
    }
   ],
   "source": [
    "!head data/song1.txt"
   ]
  },
  {
   "cell_type": "code",
   "execution_count": 9,
   "metadata": {},
   "outputs": [],
   "source": [
    "data = {}\n",
    "for filename in filenames:\n",
    "    with open(filename) as f:\n",
    "        text = f.read()\n",
    "    data[filename] = text"
   ]
  },
  {
   "cell_type": "code",
   "execution_count": 10,
   "metadata": {},
   "outputs": [
    {
     "data": {
      "text/plain": [
       "dict_keys(['data/song19.txt', 'data/song10.txt', 'data/song11.txt', 'data/song15.txt', 'data/song14.txt', 'data/song18.txt', 'data/song2.txt', 'data/song17.txt', 'data/song4.txt', 'data/song20.txt', 'data/song7.txt', 'data/song6.txt', 'data/song1.txt', 'data/song12.txt', 'data/song13.txt', 'data/song9.txt', 'data/song5.txt', 'data/song3.txt', 'data/song8.txt', 'data/song16.txt'])"
      ]
     },
     "execution_count": 10,
     "metadata": {},
     "output_type": "execute_result"
    }
   ],
   "source": [
    "data.keys()"
   ]
  },
  {
   "cell_type": "code",
   "execution_count": null,
   "metadata": {},
   "outputs": [],
   "source": [
    "documents = list"
   ]
  },
  {
   "cell_type": "code",
   "execution_count": 13,
   "metadata": {},
   "outputs": [],
   "source": [
    "vec = TfidfVectorizer()"
   ]
  },
  {
   "cell_type": "code",
   "execution_count": 14,
   "metadata": {},
   "outputs": [
    {
     "ename": "NameError",
     "evalue": "name 'documents' is not defined",
     "output_type": "error",
     "traceback": [
      "\u001b[0;31m\u001b[0m",
      "\u001b[0;31mNameError\u001b[0mTraceback (most recent call last)",
      "\u001b[0;32m<ipython-input-14-9338641c821a>\u001b[0m in \u001b[0;36m<module>\u001b[0;34m()\u001b[0m\n\u001b[0;32m----> 1\u001b[0;31m \u001b[0mvec\u001b[0m\u001b[0;34m.\u001b[0m\u001b[0mfit\u001b[0m\u001b[0;34m(\u001b[0m\u001b[0mdocuments\u001b[0m\u001b[0;34m)\u001b[0m\u001b[0;34m\u001b[0m\u001b[0m\n\u001b[0m",
      "\u001b[0;31mNameError\u001b[0m: name 'documents' is not defined"
     ]
    }
   ],
   "source": [
    "vec.fit(documents)"
   ]
  },
  {
   "cell_type": "code",
   "execution_count": null,
   "metadata": {},
   "outputs": [],
   "source": [
    "tfidf_matrix = vec.transform(documents).toarray()"
   ]
  },
  {
   "cell_type": "code",
   "execution_count": null,
   "metadata": {},
   "outputs": [],
   "source": [
    "tfidf_matrix"
   ]
  },
  {
   "cell_type": "code",
   "execution_count": null,
   "metadata": {},
   "outputs": [],
   "source": [
    "additional_date = vec.transform(['Happy birthday to you, happy birth', \n",
    "                                 'day to you, happy birthday dear',\n",
    "                                ')"
   ]
  },
  {
   "cell_type": "code",
   "execution_count": null,
   "metadata": {},
   "outputs": [],
   "source": [
    "vec.transform(documents)"
   ]
  },
  {
   "cell_type": "code",
   "execution_count": null,
   "metadata": {},
   "outputs": [],
   "source": [
    "additional_data"
   ]
  },
  {
   "cell_type": "code",
   "execution_count": null,
   "metadata": {},
   "outputs": [],
   "source": []
  },
  {
   "cell_type": "markdown",
   "metadata": {},
   "source": [
    "\n",
    "### Visualizing our Vectorizations\n",
    "\n",
    "Now that we have a tf-idf representation each document, we can move on to the fun part--visualizing everything!\n",
    "\n",
    "Let's investigate how many dimensions our data currently has.  In the cell below, examine our dataset to figure out how many dimensions our dataset has. \n",
    "\n",
    "**_HINT_**: Remember that every word is it's own dimension!"
   ]
  },
  {
   "cell_type": "code",
   "execution_count": null,
   "metadata": {},
   "outputs": [],
   "source": [
    "num_dims = None\n",
    "print(\"Number of Dimensions: {}\".format(num_dims))"
   ]
  },
  {
   "cell_type": "markdown",
   "metadata": {},
   "source": [
    "That's much too high-dimensional for us to visualize! In order to make it understandable to human eyes, we'll need to reduce dimensionality to 2 or 3 dimensions.  \n",
    "\n",
    "### Reducing Dimensionality\n",
    "\n",
    "To do this, we'll use a technique called **_t-SNE_** (short for _t-Stochastic Neighbors Embedding_).  This is too complex for us to code ourselves, so we'll make use of sklearn's implementation of it.  \n",
    "\n",
    "First, we need to pull the words out of the dictionaries stored in `tf_idf_all_docs` so that only the values remain, and store them in lists instead of dictionaries.  This is because the t-SNE object only works with Array-like objects, not dictionaries.  \n",
    "\n",
    "In the cell below, create a list of lists that contains a list representation of the values of each of the dictionaries stored in `tf_idf_all_docs`.  The same structure should remain--e.g. the first list should contain only the values that were in the 1st dictionary in `tf_idf_all_docs`, and so on. "
   ]
  },
  {
   "cell_type": "code",
   "execution_count": null,
   "metadata": {},
   "outputs": [],
   "source": [
    "tf_idf_vals_list = []\n",
    "\n",
    "for i in tf_idf_all_docs:\n",
    "    tf_idf_vals_list.append(list(i.values()))\n",
    "    \n",
    "tf_idf_vals_list[0][:10]"
   ]
  },
  {
   "cell_type": "markdown",
   "metadata": {},
   "source": [
    "Now that we have only the values, we can use the `TSNE` object from `sklearn` to transform our data appropriately.  In the cell below, create a `TSNE` with `n_components=3` passed in as a parameter.  Then, use the created object's `fit_transform()` method to transform the data stored in `tf_idf_vals_list` into 3-dimensional data.  Then, inspect the newly transformed data to confirm that it has the correct dimensionality. "
   ]
  },
  {
   "cell_type": "code",
   "execution_count": null,
   "metadata": {},
   "outputs": [],
   "source": [
    "t_sne_object_3d = None\n",
    "transformed_data_3d = None\n",
    "transformed_data_3d"
   ]
  },
  {
   "cell_type": "markdown",
   "metadata": {},
   "source": [
    "We'll also want to check out how the visualization looks in 2d.  Repeat the process above, but this time, create a `TSNE` object with 2 components instead of 3.  Again, use `fit_transform()` to transform the data and store it in the variable below, and then inspect it to confirm the transformed data has only 2 dimensions. "
   ]
  },
  {
   "cell_type": "code",
   "execution_count": null,
   "metadata": {},
   "outputs": [],
   "source": [
    "t_sne_object_2d = None\n",
    "transformed_data_2d = None\n",
    "transformed_data_2d"
   ]
  },
  {
   "cell_type": "markdown",
   "metadata": {},
   "source": [
    "Now, let's visualize everything!  Run the cell below to a 3D visualization of the songs."
   ]
  },
  {
   "cell_type": "code",
   "execution_count": null,
   "metadata": {},
   "outputs": [],
   "source": [
    "kendrick_3d = transformed_data_3d[:10]\n",
    "k3_x = [i[0] for i in kendrick_3d]\n",
    "k3_y = [i[1] for i in kendrick_3d]\n",
    "k3_z = [i[2] for i in kendrick_3d]\n",
    "\n",
    "garth_3d = transformed_data_3d[10:]\n",
    "g3_x = [i[0] for i in garth_3d]\n",
    "g3_y = [i[1] for i in garth_3d]\n",
    "g3_z = [i[2] for i in garth_3d]\n",
    "\n",
    "fig = plt.figure(figsize=(10,5))\n",
    "ax = fig.add_subplot(111, projection='3d')\n",
    "ax.scatter(k3_x, k3_y, k3_z, c='b', s=60, label='Kendrick')\n",
    "ax.scatter(g3_x, g3_y, g3_z, c='red', s=60, label='Garth')\n",
    "ax.view_init(30, 10)\n",
    "ax.legend()\n",
    "plt.show()\n",
    "\n",
    "kendrick_2d = transformed_data_2d[:10]\n",
    "k2_x = [i[0] for i in kendrick_2d]\n",
    "k2_y = [i[1] for i in kendrick_2d]\n",
    "\n",
    "garth_2d = transformed_data_2d[10:]\n",
    "g2_x = [i[0] for i in garth_2d]\n",
    "g2_y = [i[1] for i in garth_2d]\n",
    "\n",
    "fig = plt.figure(figsize=(20,10))\n",
    "ax = fig.add_subplot(222)\n",
    "ax.scatter(k2_x, k2_y, c='b', label='Kendrick')\n",
    "ax.scatter(g2_x, g2_y, c='red', label='Garth')\n",
    "ax.legend()\n",
    "plt.show()"
   ]
  },
  {
   "cell_type": "markdown",
   "metadata": {},
   "source": [
    "Interesting! Take a crack at interpreting these graphs by answering the following question below:\n",
    "\n",
    "What does each graph mean? Do you find one graph more informative than the other? Do you think that this method shows us discernable differences between Kendrick Lamar songs and Garth Brooks songs?  Use the graphs and your understanding of TF-IDF to support your answer.  \n",
    "\n",
    "Write your answer to this question below this line:\n",
    "________________________________________________________________________________________________________________________________\n",
    "\n",
    "Both graphs show a basic trend among the red and blue dots, although the 3-dimensional graph is more informative than the 2-dimensional graph.  We see a separation between the two artists because they both have words that they use, but the other artist does not.  The words in each song that are common to both are reduced very small numbers or to 0, because of the log operation in the IDF function.  This means that the elements of each song vector with the highest values will be the ones that have words that are unique to that specific document, or at least are rarely used in others.  "
   ]
  },
  {
   "cell_type": "markdown",
   "metadata": {},
   "source": [
    "## Summary\n",
    "\n",
    "In this lab, we learned how to: \n",
    "* Tokenize a corpus of words and identify the different choices to be made while parsing them\n",
    "* Use a Count Vectorization strategy to create a Bag of Words\n",
    "* Use TF-IDF Vectorization with multiple documents to identify words that are important/unique to certain documents\n",
    "* Visualize and compare vectorized text documents"
   ]
  }
 ],
 "metadata": {
  "kernelspec": {
   "display_name": "Python 3",
   "language": "python",
   "name": "python3"
  },
  "language_info": {
   "codemirror_mode": {
    "name": "ipython",
    "version": 3
   },
   "file_extension": ".py",
   "mimetype": "text/x-python",
   "name": "python",
   "nbconvert_exporter": "python",
   "pygments_lexer": "ipython3",
   "version": "3.6.6"
  }
 },
 "nbformat": 4,
 "nbformat_minor": 2
}
